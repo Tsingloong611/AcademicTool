{
 "cells": [
  {
   "cell_type": "code",
   "id": "initial_id",
   "metadata": {
    "collapsed": true,
    "ExecuteTime": {
     "end_time": "2025-01-05T05:16:14.384945Z",
     "start_time": "2025-01-05T05:16:13.520753Z"
    }
   },
   "source": [
    "from graphviz import Digraph\n",
    "\n",
    "def create_ecommerce_diagram():\n",
    "    dot = Digraph(comment='E-Commerce Platforms (Amazon Australia)', format='png')\n",
    "    dot.attr(rankdir='TB', size='10,8')  # Top to Bottom\n",
    "\n",
    "    # 定义节点样式\n",
    "    dot.attr('node', shape='box', style='filled', color='lightblue', fontsize='10')\n",
    "\n",
    "    # 起始节点\n",
    "    dot.node('A', 'E-Commerce Platforms\\n(Amazon Australia)', shape='ellipse', color='lightgreen')\n",
    "\n",
    "    # 主要步骤\n",
    "    dot.node('B', 'Register Seller Account')\n",
    "    dot.node('C', 'Create Store')\n",
    "    dot.node('D', 'List Products')\n",
    "\n",
    "    # 次级步骤\n",
    "    dot.node('E', 'SEO Optimization')\n",
    "    dot.node('F', 'Set Pricing & Inventory')\n",
    "    dot.node('G', 'Launch Promotions')\n",
    "    dot.node('H', 'Manage Reviews')\n",
    "    dot.node('I', 'Analyze Data & Optimize')\n",
    "\n",
    "    # 定义边\n",
    "    dot.edges(['AB', 'AC', 'AD'])\n",
    "    dot.edge('B', 'E')\n",
    "    dot.edge('C', 'F')\n",
    "    dot.edge('D', 'E')\n",
    "    dot.edge('E', 'G')\n",
    "    dot.edge('F', 'H')\n",
    "    dot.edge('G', 'I')\n",
    "    dot.edge('H', 'I')\n",
    "\n",
    "    # 导出流程图\n",
    "    dot.render('ECommerce_Platforms_Australia', view=False)\n",
    "    print(\"E-Commerce Platforms (Amazon Australia) diagram generated successfully.\")\n",
    "\n",
    "if __name__ == \"__main__\":\n",
    "    create_ecommerce_diagram()\n"
   ],
   "outputs": [
    {
     "name": "stdout",
     "output_type": "stream",
     "text": [
      "E-Commerce Platforms (Amazon Australia) diagram generated successfully.\n"
     ]
    }
   ],
   "execution_count": 7
  },
  {
   "metadata": {
    "ExecuteTime": {
     "end_time": "2025-01-05T05:16:56.060796Z",
     "start_time": "2025-01-05T05:16:55.555934Z"
    }
   },
   "cell_type": "code",
   "source": [
    "from graphviz import Digraph\n",
    "\n",
    "def create_retailers_diagram():\n",
    "    dot = Digraph(comment='Retailers (Harvey Norman & Myer)', format='png')\n",
    "    dot.attr(rankdir='TB', size='10,8')  # Top to Bottom\n",
    "\n",
    "    # 定义节点样式\n",
    "    dot.attr('node', shape='box', style='filled', color='lightblue', fontsize='10')\n",
    "\n",
    "    # 起始节点\n",
    "    dot.node('A', 'Retailers (Harvey Norman & Myer)', shape='ellipse', color='lightgreen')\n",
    "\n",
    "    # 主要步骤\n",
    "    dot.node('B', 'Initiate Partnership Discussions')\n",
    "    dot.node('C', 'Product Placement & Display Setup')\n",
    "    dot.node('D', 'Conduct In-Store Promotional Events')\n",
    "\n",
    "    # 次级步骤\n",
    "    dot.node('E', 'Collaborate on Terms')\n",
    "    dot.node('F', 'Exclusive Display Racks')\n",
    "    dot.node('G', 'Provide Sales Training & Support')\n",
    "    dot.node('H', 'Monitor Sales & Feedback')\n",
    "    dot.node('I', 'Adjust Marketing Strategies')\n",
    "    dot.node('J', 'Support Measures')\n",
    "\n",
    "    # 定义边\n",
    "    dot.edges(['AB', 'AC', 'AD'])\n",
    "    dot.edge('B', 'E')\n",
    "    dot.edge('C', 'F')\n",
    "    dot.edge('D', 'G')\n",
    "    dot.edge('G', 'H')\n",
    "    dot.edge('H', 'I')\n",
    "    dot.edge('F', 'J')\n",
    "\n",
    "    # 导出流程图\n",
    "    dot.render('Retailers_HarveyNorman_Myer', view=False)\n",
    "    print(\"Retailers (Harvey Norman & Myer) diagram generated successfully.\")\n",
    "\n",
    "if __name__ == \"__main__\":\n",
    "    create_retailers_diagram()\n"
   ],
   "id": "dd076e234f30b269",
   "outputs": [
    {
     "name": "stdout",
     "output_type": "stream",
     "text": [
      "Retailers (Harvey Norman & Myer) diagram generated successfully.\n"
     ]
    }
   ],
   "execution_count": 8
  },
  {
   "metadata": {
    "ExecuteTime": {
     "end_time": "2025-01-05T05:17:10.216305Z",
     "start_time": "2025-01-05T05:17:10.059220Z"
    }
   },
   "cell_type": "code",
   "source": [
    "from graphviz import Digraph\n",
    "\n",
    "def create_logistics_diagram():\n",
    "    dot = Digraph(comment='Logistics and Distribution Services (StarTrack)', format='png')\n",
    "    dot.attr(rankdir='TB', size='10,8')  # Top to Bottom\n",
    "\n",
    "    # 定义节点样式\n",
    "    dot.attr('node', shape='box', style='filled', color='lightblue', fontsize='10')\n",
    "\n",
    "    # 起始节点\n",
    "    dot.node('A', 'Logistics and Distribution Services\\n(StarTrack)', shape='ellipse', color='lightgreen')\n",
    "\n",
    "    # 主要步骤\n",
    "    dot.node('B', 'Receive Products from Manufacturer')\n",
    "    dot.node('C', 'Warehousing & Inventory Management')\n",
    "    dot.node('D', 'Dispatch to Retailers & E-Commerce Platforms')\n",
    "\n",
    "    # 次级步骤\n",
    "    dot.node('E', 'Real-Time Tracking & Monitoring')\n",
    "    dot.node('F', 'Optimize Inventory Layout & Storage')\n",
    "    dot.node('G', 'Handle Returns & Exchanges')\n",
    "\n",
    "    # 定义边\n",
    "    dot.edges(['AB', 'AC', 'AD'])\n",
    "    dot.edge('B', 'E')\n",
    "    dot.edge('C', 'F')\n",
    "    dot.edge('D', 'G')\n",
    "    dot.edge('E', 'G')\n",
    "    dot.edge('F', 'G')\n",
    "\n",
    "    # 导出流程图\n",
    "    dot.render('Logistics_StarTrack', view=False)\n",
    "    print(\"Logistics and Distribution Services (StarTrack) diagram generated successfully.\")\n",
    "\n",
    "if __name__ == \"__main__\":\n",
    "    create_logistics_diagram()\n"
   ],
   "id": "226cc96ab1caf5ad",
   "outputs": [
    {
     "name": "stdout",
     "output_type": "stream",
     "text": [
      "Logistics and Distribution Services (StarTrack) diagram generated successfully.\n"
     ]
    }
   ],
   "execution_count": 9
  },
  {
   "metadata": {},
   "cell_type": "code",
   "outputs": [],
   "execution_count": null,
   "source": "",
   "id": "f5a7a4d53559b90"
  }
 ],
 "metadata": {
  "kernelspec": {
   "display_name": "Python 3",
   "language": "python",
   "name": "python3"
  },
  "language_info": {
   "codemirror_mode": {
    "name": "ipython",
    "version": 2
   },
   "file_extension": ".py",
   "mimetype": "text/x-python",
   "name": "python",
   "nbconvert_exporter": "python",
   "pygments_lexer": "ipython2",
   "version": "2.7.6"
  }
 },
 "nbformat": 4,
 "nbformat_minor": 5
}
