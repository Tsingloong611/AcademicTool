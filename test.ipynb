{
 "cells": [
  {
   "cell_type": "code",
   "id": "initial_id",
   "metadata": {
    "collapsed": true,
    "ExecuteTime": {
     "end_time": "2025-01-16T16:29:33.325303Z",
     "start_time": "2025-01-16T16:29:32.549243Z"
    }
   },
   "source": [
    "from graphviz import Digraph\n",
    "\n",
    "def create_ecommerce_diagram():\n",
    "    dot = Digraph(comment='E-Commerce Platforms (Amazon Australia)', format='png')\n",
    "    dot.attr(rankdir='TB', size='10,8')  # Top to Bottom\n",
    "\n",
    "    # 定义节点样式\n",
    "    dot.attr('node', shape='box', style='filled', color='lightblue', fontsize='10')\n",
    "\n",
    "    # 起始节点\n",
    "    dot.node('A', 'E-Commerce Platforms\\n(Amazon Australia)', shape='ellipse', color='lightgreen')\n",
    "\n",
    "    # 主要步骤\n",
    "    dot.node('B', 'Register Seller Account')\n",
    "    dot.node('C', 'Create Store')\n",
    "    dot.node('D', 'List Products')\n",
    "\n",
    "    # 次级步骤\n",
    "    dot.node('E', 'SEO Optimization')\n",
    "    dot.node('F', 'Set Pricing & Inventory')\n",
    "    dot.node('G', 'Launch Promotions')\n",
    "    dot.node('H', 'Manage Reviews')\n",
    "    dot.node('I', 'Analyze Data & Optimize')\n",
    "\n",
    "    # 定义边\n",
    "    dot.edges(['AB', 'AC', 'AD'])\n",
    "    dot.edge('B', 'E')\n",
    "    dot.edge('C', 'F')\n",
    "    dot.edge('D', 'E')\n",
    "    dot.edge('E', 'G')\n",
    "    dot.edge('F', 'H')\n",
    "    dot.edge('G', 'I')\n",
    "    dot.edge('H', 'I')\n",
    "\n",
    "    # 导出流程图\n",
    "    dot.render('ECommerce_Platforms_Australia', view=False)\n",
    "    print(\"E-Commerce Platforms (Amazon Australia) diagram generated successfully.\")\n",
    "\n",
    "if __name__ == \"__main__\":\n",
    "    create_ecommerce_diagram()\n"
   ],
   "outputs": [
    {
     "ename": "TypeError",
     "evalue": "'PySide6.QtWidgets.QDialog.__init__' called with wrong argument types:\n  PySide6.QtWidgets.QDialog.__init__(MockParent)\nSupported signatures:\n  PySide6.QtWidgets.QDialog.__init__(Optional[PySide6.QtWidgets.QWidget] = None, PySide6.QtCore.Qt.WindowType = Default(Qt.WindowFlags))",
     "output_type": "error",
     "traceback": [
      "\u001B[1;31m---------------------------------------------------------------------------\u001B[0m",
      "\u001B[1;31mTypeError\u001B[0m                                 Traceback (most recent call last)",
      "Cell \u001B[1;32mIn[1], line 923\u001B[0m\n\u001B[0;32m    921\u001B[0m app \u001B[38;5;241m=\u001B[39m QApplication(sys\u001B[38;5;241m.\u001B[39margv)\n\u001B[0;32m    922\u001B[0m parent_obj \u001B[38;5;241m=\u001B[39m MockParent()\n\u001B[1;32m--> 923\u001B[0m dialog \u001B[38;5;241m=\u001B[39m \u001B[43mCustomSelectDialog\u001B[49m\u001B[43m(\u001B[49m\u001B[43mparent\u001B[49m\u001B[38;5;241;43m=\u001B[39;49m\u001B[43mparent_obj\u001B[49m\u001B[43m)\u001B[49m\n\u001B[0;32m    924\u001B[0m dialog\u001B[38;5;241m.\u001B[39mshow()\n\u001B[0;32m    925\u001B[0m sys\u001B[38;5;241m.\u001B[39mexit(app\u001B[38;5;241m.\u001B[39mexec())\n",
      "Cell \u001B[1;32mIn[1], line 202\u001B[0m, in \u001B[0;36mCustomSelectDialog.__init__\u001B[1;34m(self, parent)\u001B[0m\n\u001B[0;32m    191\u001B[0m \u001B[38;5;28;01mdef\u001B[39;00m \u001B[38;5;21m__init__\u001B[39m(\u001B[38;5;28mself\u001B[39m, parent\u001B[38;5;241m=\u001B[39m\u001B[38;5;28;01mNone\u001B[39;00m):\n\u001B[0;32m    192\u001B[0m \u001B[38;5;250m    \u001B[39m\u001B[38;5;124;03m\"\"\"\u001B[39;00m\n\u001B[0;32m    193\u001B[0m \u001B[38;5;124;03m    parent 应当包含:\u001B[39;00m\n\u001B[0;32m    194\u001B[0m \u001B[38;5;124;03m      - self.session => 数据库会话\u001B[39;00m\n\u001B[1;32m   (...)\u001B[0m\n\u001B[0;32m    200\u001B[0m \u001B[38;5;124;03m      - create_entities_with_negative_ids => 从模板新建负数实体\u001B[39;00m\n\u001B[0;32m    201\u001B[0m \u001B[38;5;124;03m    \"\"\"\u001B[39;00m\n\u001B[1;32m--> 202\u001B[0m     \u001B[38;5;28;43msuper\u001B[39;49m\u001B[43m(\u001B[49m\u001B[43m)\u001B[49m\u001B[38;5;241;43m.\u001B[39;49m\u001B[38;5;21;43m__init__\u001B[39;49m\u001B[43m(\u001B[49m\u001B[43mparent\u001B[49m\u001B[43m)\u001B[49m\n\u001B[0;32m    203\u001B[0m     \u001B[38;5;28mself\u001B[39m\u001B[38;5;241m.\u001B[39mparent \u001B[38;5;241m=\u001B[39m parent\n\u001B[0;32m    204\u001B[0m     \u001B[38;5;28mself\u001B[39m\u001B[38;5;241m.\u001B[39melement \u001B[38;5;241m=\u001B[39m \u001B[38;5;28mself\u001B[39m\u001B[38;5;241m.\u001B[39mparent\u001B[38;5;241m.\u001B[39mcurrent_selected_element\n",
      "\u001B[1;31mTypeError\u001B[0m: 'PySide6.QtWidgets.QDialog.__init__' called with wrong argument types:\n  PySide6.QtWidgets.QDialog.__init__(MockParent)\nSupported signatures:\n  PySide6.QtWidgets.QDialog.__init__(Optional[PySide6.QtWidgets.QWidget] = None, PySide6.QtCore.Qt.WindowType = Default(Qt.WindowFlags))"
     ]
    }
   ],
   "execution_count": 1
  },
  {
   "metadata": {
    "ExecuteTime": {
     "end_time": "2025-01-05T05:16:56.060796Z",
     "start_time": "2025-01-05T05:16:55.555934Z"
    }
   },
   "cell_type": "code",
   "source": [
    "from graphviz import Digraph\n",
    "\n",
    "def create_retailers_diagram():\n",
    "    dot = Digraph(comment='Retailers (Harvey Norman & Myer)', format='png')\n",
    "    dot.attr(rankdir='TB', size='10,8')  # Top to Bottom\n",
    "\n",
    "    # 定义节点样式\n",
    "    dot.attr('node', shape='box', style='filled', color='lightblue', fontsize='10')\n",
    "\n",
    "    # 起始节点\n",
    "    dot.node('A', 'Retailers (Harvey Norman & Myer)', shape='ellipse', color='lightgreen')\n",
    "\n",
    "    # 主要步骤\n",
    "    dot.node('B', 'Initiate Partnership Discussions')\n",
    "    dot.node('C', 'Product Placement & Display Setup')\n",
    "    dot.node('D', 'Conduct In-Store Promotional Events')\n",
    "\n",
    "    # 次级步骤\n",
    "    dot.node('E', 'Collaborate on Terms')\n",
    "    dot.node('F', 'Exclusive Display Racks')\n",
    "    dot.node('G', 'Provide Sales Training & Support')\n",
    "    dot.node('H', 'Monitor Sales & Feedback')\n",
    "    dot.node('I', 'Adjust Marketing Strategies')\n",
    "    dot.node('J', 'Support Measures')\n",
    "\n",
    "    # 定义边\n",
    "    dot.edges(['AB', 'AC', 'AD'])\n",
    "    dot.edge('B', 'E')\n",
    "    dot.edge('C', 'F')\n",
    "    dot.edge('D', 'G')\n",
    "    dot.edge('G', 'H')\n",
    "    dot.edge('H', 'I')\n",
    "    dot.edge('F', 'J')\n",
    "\n",
    "    # 导出流程图\n",
    "    dot.render('Retailers_HarveyNorman_Myer', view=False)\n",
    "    print(\"Retailers (Harvey Norman & Myer) diagram generated successfully.\")\n",
    "\n",
    "if __name__ == \"__main__\":\n",
    "    create_retailers_diagram()\n"
   ],
   "id": "dd076e234f30b269",
   "outputs": [
    {
     "name": "stdout",
     "output_type": "stream",
     "text": [
      "Retailers (Harvey Norman & Myer) diagram generated successfully.\n"
     ]
    }
   ],
   "execution_count": 8
  },
  {
   "metadata": {
    "ExecuteTime": {
     "end_time": "2025-01-05T05:17:10.216305Z",
     "start_time": "2025-01-05T05:17:10.059220Z"
    }
   },
   "cell_type": "code",
   "source": [
    "from graphviz import Digraph\n",
    "\n",
    "def create_logistics_diagram():\n",
    "    dot = Digraph(comment='Logistics and Distribution Services (StarTrack)', format='png')\n",
    "    dot.attr(rankdir='TB', size='10,8')  # Top to Bottom\n",
    "\n",
    "    # 定义节点样式\n",
    "    dot.attr('node', shape='box', style='filled', color='lightblue', fontsize='10')\n",
    "\n",
    "    # 起始节点\n",
    "    dot.node('A', 'Logistics and Distribution Services\\n(StarTrack)', shape='ellipse', color='lightgreen')\n",
    "\n",
    "    # 主要步骤\n",
    "    dot.node('B', 'Receive Products from Manufacturer')\n",
    "    dot.node('C', 'Warehousing & Inventory Management')\n",
    "    dot.node('D', 'Dispatch to Retailers & E-Commerce Platforms')\n",
    "\n",
    "    # 次级步骤\n",
    "    dot.node('E', 'Real-Time Tracking & Monitoring')\n",
    "    dot.node('F', 'Optimize Inventory Layout & Storage')\n",
    "    dot.node('G', 'Handle Returns & Exchanges')\n",
    "\n",
    "    # 定义边\n",
    "    dot.edges(['AB', 'AC', 'AD'])\n",
    "    dot.edge('B', 'E')\n",
    "    dot.edge('C', 'F')\n",
    "    dot.edge('D', 'G')\n",
    "    dot.edge('E', 'G')\n",
    "    dot.edge('F', 'G')\n",
    "\n",
    "    # 导出流程图\n",
    "    dot.render('Logistics_StarTrack', view=False)\n",
    "    print(\"Logistics and Distribution Services (StarTrack) diagram generated successfully.\")\n",
    "\n",
    "if __name__ == \"__main__\":\n",
    "    create_logistics_diagram()\n"
   ],
   "id": "226cc96ab1caf5ad",
   "outputs": [
    {
     "name": "stdout",
     "output_type": "stream",
     "text": [
      "Logistics and Distribution Services (StarTrack) diagram generated successfully.\n"
     ]
    }
   ],
   "execution_count": 9
  },
  {
   "metadata": {},
   "cell_type": "code",
   "outputs": [],
   "execution_count": null,
   "source": "",
   "id": "f5a7a4d53559b90"
  }
 ],
 "metadata": {
  "kernelspec": {
   "display_name": "Python 3",
   "language": "python",
   "name": "python3"
  },
  "language_info": {
   "codemirror_mode": {
    "name": "ipython",
    "version": 2
   },
   "file_extension": ".py",
   "mimetype": "text/x-python",
   "name": "python",
   "nbconvert_exporter": "python",
   "pygments_lexer": "ipython2",
   "version": "2.7.6"
  }
 },
 "nbformat": 4,
 "nbformat_minor": 5
}
